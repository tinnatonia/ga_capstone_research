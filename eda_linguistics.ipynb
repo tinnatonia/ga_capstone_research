{
 "cells": [
  {
   "cell_type": "code",
   "execution_count": 42,
   "id": "05d2c785-fc88-4b98-bdfa-6507eeafccb6",
   "metadata": {},
   "outputs": [],
   "source": [
    "import pandas as pd\n",
    "import matplotlib as plt\n",
    "import numpy as np\n",
    "from ydata_profiling import ProfileReport\n",
    "from bs4 import BeautifulSoup as soup\n",
    "import requests as rq\n",
    "pd.set_option('max_colwidth', 300)"
   ]
  },
  {
   "cell_type": "code",
   "execution_count": 18,
   "id": "b9fdfa1e-4999-4e15-ba65-bc8ff4851b6f",
   "metadata": {},
   "outputs": [
    {
     "data": {
      "text/plain": [
       "ID                    object\n",
       "Name                  object\n",
       "Macroarea             object\n",
       "Latitude             float64\n",
       "Longitude            float64\n",
       "Glottocode            object\n",
       "provenance            object\n",
       "Family_name           object\n",
       "Family_level_ID       object\n",
       "Language_level_ID     object\n",
       "level                 object\n",
       "lineage               object\n",
       "dtype: object"
      ]
     },
     "execution_count": 18,
     "metadata": {},
     "output_type": "execute_result"
    }
   ],
   "source": [
    "languages.dtypes"
   ]
  },
  {
   "cell_type": "code",
   "execution_count": 17,
   "id": "547b0c85-28aa-475f-98e7-6d23d0730c3e",
   "metadata": {
    "scrolled": true
   },
   "outputs": [
    {
     "data": {
      "text/html": [
       "<div>\n",
       "<style scoped>\n",
       "    .dataframe tbody tr th:only-of-type {\n",
       "        vertical-align: middle;\n",
       "    }\n",
       "\n",
       "    .dataframe tbody tr th {\n",
       "        vertical-align: top;\n",
       "    }\n",
       "\n",
       "    .dataframe thead th {\n",
       "        text-align: right;\n",
       "    }\n",
       "</style>\n",
       "<table border=\"1\" class=\"dataframe\">\n",
       "  <thead>\n",
       "    <tr style=\"text-align: right;\">\n",
       "      <th></th>\n",
       "      <th>ID</th>\n",
       "      <th>Name</th>\n",
       "      <th>Macroarea</th>\n",
       "      <th>Latitude</th>\n",
       "      <th>Longitude</th>\n",
       "      <th>Glottocode</th>\n",
       "      <th>provenance</th>\n",
       "      <th>Family_name</th>\n",
       "      <th>Family_level_ID</th>\n",
       "      <th>Language_level_ID</th>\n",
       "      <th>level</th>\n",
       "      <th>lineage</th>\n",
       "    </tr>\n",
       "  </thead>\n",
       "  <tbody>\n",
       "    <tr>\n",
       "      <th>0</th>\n",
       "      <td>abad1241</td>\n",
       "      <td>Abadi</td>\n",
       "      <td>Papunesia</td>\n",
       "      <td>-9.03389</td>\n",
       "      <td>146.99200</td>\n",
       "      <td>abad1241</td>\n",
       "      <td>JLA_abad1241.tsv</td>\n",
       "      <td>Austronesian</td>\n",
       "      <td>aust1307</td>\n",
       "      <td>abad1241</td>\n",
       "      <td>language</td>\n",
       "      <td>aust1307/mala1545/cent2237/east2712/ocea1241/w...</td>\n",
       "    </tr>\n",
       "    <tr>\n",
       "      <th>1</th>\n",
       "      <td>abar1238</td>\n",
       "      <td>Mungbam</td>\n",
       "      <td>Africa</td>\n",
       "      <td>6.58050</td>\n",
       "      <td>10.22670</td>\n",
       "      <td>abar1238</td>\n",
       "      <td>ML_abar1238.tsv</td>\n",
       "      <td>Atlantic-Congo</td>\n",
       "      <td>atla1278</td>\n",
       "      <td>abar1238</td>\n",
       "      <td>language</td>\n",
       "      <td>atla1278/volt1241/benu1247/bant1294/sout3152/y...</td>\n",
       "    </tr>\n",
       "    <tr>\n",
       "      <th>2</th>\n",
       "      <td>abau1245</td>\n",
       "      <td>Abau</td>\n",
       "      <td>Papunesia</td>\n",
       "      <td>-3.97222</td>\n",
       "      <td>141.32400</td>\n",
       "      <td>abau1245</td>\n",
       "      <td>MD-GR-RSI_abau1245.tsv</td>\n",
       "      <td>Sepik</td>\n",
       "      <td>sepi1257</td>\n",
       "      <td>abau1245</td>\n",
       "      <td>language</td>\n",
       "      <td>sepi1257</td>\n",
       "    </tr>\n",
       "    <tr>\n",
       "      <th>3</th>\n",
       "      <td>abee1242</td>\n",
       "      <td>Abé</td>\n",
       "      <td>Africa</td>\n",
       "      <td>5.59682</td>\n",
       "      <td>-4.38497</td>\n",
       "      <td>abee1242</td>\n",
       "      <td>RHE_abee1242.tsv</td>\n",
       "      <td>Atlantic-Congo</td>\n",
       "      <td>atla1278</td>\n",
       "      <td>abee1242</td>\n",
       "      <td>language</td>\n",
       "      <td>atla1278/volt1241/kwav1236/nyoa1234/agne1238</td>\n",
       "    </tr>\n",
       "    <tr>\n",
       "      <th>4</th>\n",
       "      <td>aben1249</td>\n",
       "      <td>Abenlen Ayta</td>\n",
       "      <td>Papunesia</td>\n",
       "      <td>15.41310</td>\n",
       "      <td>120.20000</td>\n",
       "      <td>aben1249</td>\n",
       "      <td>SR_aben1249.tsv</td>\n",
       "      <td>Austronesian</td>\n",
       "      <td>aust1307</td>\n",
       "      <td>aben1249</td>\n",
       "      <td>language</td>\n",
       "      <td>aust1307/mala1545/cent2080/samb1319/abel1234</td>\n",
       "    </tr>\n",
       "  </tbody>\n",
       "</table>\n",
       "</div>"
      ],
      "text/plain": [
       "         ID          Name  Macroarea  Latitude  Longitude Glottocode  \\\n",
       "0  abad1241         Abadi  Papunesia  -9.03389  146.99200   abad1241   \n",
       "1  abar1238       Mungbam     Africa   6.58050   10.22670   abar1238   \n",
       "2  abau1245          Abau  Papunesia  -3.97222  141.32400   abau1245   \n",
       "3  abee1242           Abé     Africa   5.59682   -4.38497   abee1242   \n",
       "4  aben1249  Abenlen Ayta  Papunesia  15.41310  120.20000   aben1249   \n",
       "\n",
       "               provenance     Family_name Family_level_ID Language_level_ID  \\\n",
       "0        JLA_abad1241.tsv    Austronesian        aust1307          abad1241   \n",
       "1         ML_abar1238.tsv  Atlantic-Congo        atla1278          abar1238   \n",
       "2  MD-GR-RSI_abau1245.tsv           Sepik        sepi1257          abau1245   \n",
       "3        RHE_abee1242.tsv  Atlantic-Congo        atla1278          abee1242   \n",
       "4         SR_aben1249.tsv    Austronesian        aust1307          aben1249   \n",
       "\n",
       "      level                                            lineage  \n",
       "0  language  aust1307/mala1545/cent2237/east2712/ocea1241/w...  \n",
       "1  language  atla1278/volt1241/benu1247/bant1294/sout3152/y...  \n",
       "2  language                                           sepi1257  \n",
       "3  language       atla1278/volt1241/kwav1236/nyoa1234/agne1238  \n",
       "4  language       aust1307/mala1545/cent2080/samb1319/abel1234  "
      ]
     },
     "execution_count": 17,
     "metadata": {},
     "output_type": "execute_result"
    }
   ],
   "source": [
    "languages=pd.read_csv(filepath_or_buffer='./data/grambank/cldf/languages.csv')\n",
    "languages.drop('ISO639P3code', inplace=True, axis=1)\n",
    "profile=ProfileReport(languages, title='languages.csv Profiling Report')\n",
    "languages.head()"
   ]
  },
  {
   "cell_type": "code",
   "execution_count": 43,
   "id": "b70976c3-0cb2-4348-a0f1-473779333722",
   "metadata": {},
   "outputs": [
    {
     "data": {
      "text/plain": [
       "200"
      ]
     },
     "execution_count": 43,
     "metadata": {},
     "output_type": "execute_result"
    }
   ],
   "source": [
    "#https://en.wal.unesco.org/discover/languages?text=&sort_by=title&page=4\n",
    "\n",
    "#scrape to get # speakers, and endangered status\n",
    "page_url='https://en.wal.unesco.org/discover/languages?text=&sort_by=title&page=1'\n",
    "wal_soup = soup(rq.get(page_url).text)\n",
    "\n",
    "\n",
    "#<a href=\"https://en.wal.unesco.org/lcanguages/akpa\" hreflang=\"en\">Akpa</a>\n",
    "\n",
    "\n"
   ]
  },
  {
   "cell_type": "raw",
   "id": "0b4f6aa6-9230-4bc7-ba74-99d1bb735c87",
   "metadata": {},
   "source": [
    "books_url = 'http://books.toscrape.com/'\n",
    "books_text = rq.get(books_url).text\n",
    "book_soup = soup(books_text, 'html.parser')\n",
    "price_tags = book_soup.select('p.price_color')"
   ]
  }
 ],
 "metadata": {
  "kernelspec": {
   "display_name": "Python 3 (ipykernel)",
   "language": "python",
   "name": "python3"
  },
  "language_info": {
   "codemirror_mode": {
    "name": "ipython",
    "version": 3
   },
   "file_extension": ".py",
   "mimetype": "text/x-python",
   "name": "python",
   "nbconvert_exporter": "python",
   "pygments_lexer": "ipython3",
   "version": "3.10.9"
  }
 },
 "nbformat": 4,
 "nbformat_minor": 5
}
