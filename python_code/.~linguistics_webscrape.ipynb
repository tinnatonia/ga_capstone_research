{
 "cells": [
  {
   "cell_type": "code",
   "execution_count": 25,
   "id": "b5dc953c-7aab-453e-b940-950fb2f39a06",
   "metadata": {},
   "outputs": [
    {
     "name": "stdout",
     "output_type": "stream",
     "text": [
      "Imported all packages\n"
     ]
    }
   ],
   "source": [
    "import pandas as pd\n",
    "from bs4 import BeautifulSoup as soup\n",
    "import requests as rq\n",
    "from IPython.display import clear_output\n",
    "import random\n",
    "import time\n",
    "print('Imported all packages')"
   ]
  },
  {
   "cell_type": "code",
   "execution_count": 32,
   "id": "f1709448-1f8e-4467-a4cc-62133e26b4a0",
   "metadata": {},
   "outputs": [],
   "source": [
    "\n",
    "language_data = []\n",
    "lang_links = []\n",
    "\n",
    "def scrape(num_of_pages):\n",
    "    for i in range(0, num_of_pages + 1):\n",
    "        clear_output(wait=True)\n",
    "        sleep_time = random.uniform(0.1, 0.5)\n",
    "        \n",
    "        print(f'Scraping page {i} out of {num_of_pages}')\n",
    "        page_url = f'https://en.wal.unesco.org/discover/languages?text=&sort_by=title&page={i}'\n",
    "        \n",
    "        try:\n",
    "            page = rq.get(page_url)\n",
    "            page.raise_for_status() \n",
    "            \n",
    "            page_soup = soup(page.text)\n",
    "            links = page_soup.find_all('a', href=True)\n",
    "            \n",
    "            for link in links:\n",
    "                href = link['href']\n",
    "                \n",
    "                if 'https://en.wal.unesco.org/languages/' in href:\n",
    "                    lang_links.append(href)\n",
    "            \n",
    "            time.sleep(sleep_time)\n",
    "        except rq.exceptions.RequestException as e:\n",
    "            print(f\"Error fetching page {i}: {e}\")\n",
    "            continue\n"
   ]
  },
  {
   "cell_type": "code",
   "execution_count": null,
   "id": "cd3de5cf-d24e-4631-8eb2-2aa09f1b0b8b",
   "metadata": {
    "scrolled": true
   },
   "outputs": [
    {
     "name": "stdout",
     "output_type": "stream",
     "text": [
      "Scraping page 55 out of 277\n"
     ]
    }
   ],
   "source": [
    "scrape(277)"
   ]
  },
  {
   "cell_type": "code",
   "execution_count": 22,
   "id": "ab80d47d-6567-4550-954b-bf27e31e316c",
   "metadata": {},
   "outputs": [],
   "source": [
    "def extract_language_data(lang_links):\n",
    "    #iterate through lang_links and gather language information using extract_language_info\n",
    "    for link in lang_links:\n",
    "        clear_output(wait=True)\n",
    "        print(f'Language URL {link}')\n",
    "        lang = rq.get(lang_url)\n",
    "        if lang.status_code == 200:\n",
    "            lang_soup = soup(lang.text)\n",
    "            lang_name = lang_soup.select('h2')[3].get_text()\n",
    "            lang_speakers = lang_soup.select('span')[6].get_text()\n",
    "            glotto_div = lang_soup.find('div', class_='field__label', text='Glottocode')\n",
    "            if glotto_div:\n",
    "                glotto_item = glotto_div.find_next_sibling('div', class_='field__item')\n",
    "                glottocode = glotto_item.get_text(strip=True)\n",
    "            else:\n",
    "                glottocode = 'none found'\n",
    "            return {'name': lang_name, 'speakers': lang_speakers, 'glottocode': glottocode}\n",
    "        else:\n",
    "            print(f'Error at: {lang_url}')\n",
    "            return None\n",
    "        lang_info = extract_language_info(link)\n",
    "        language_data.append(lang_info)\n",
    "    \n",
    "    clear_output()\n",
    "    df = pd.DataFrame.from_dict(language_data)\n",
    "    df.to_csv('unesco_wal.csv')\n"
   ]
  },
  {
   "cell_type": "code",
   "execution_count": null,
   "id": "378bdbe1-79b3-486d-a6da-e76728a9e9c0",
   "metadata": {},
   "outputs": [],
   "source": []
  }
 ],
 "metadata": {
  "kernelspec": {
   "display_name": "Python 3 (ipykernel)",
   "language": "python",
   "name": "python3"
  },
  "language_info": {
   "codemirror_mode": {
    "name": "ipython",
    "version": 3
   },
   "file_extension": ".py",
   "mimetype": "text/x-python",
   "name": "python",
   "nbconvert_exporter": "python",
   "pygments_lexer": "ipython3",
   "version": "3.10.9"
  }
 },
 "nbformat": 4,
 "nbformat_minor": 5
}
