{
 "cells": [
  {
   "cell_type": "code",
   "execution_count": 2,
   "id": "ddf6d0ab-7faa-41d5-8648-9f5e21fb80e0",
   "metadata": {},
   "outputs": [
    {
     "name": "stdout",
     "output_type": "stream",
     "text": [
      "All Packages Loaded\n"
     ]
    }
   ],
   "source": [
    "import pandas as pd\n",
    "from bs4 import BeautifulSoup as soup\n",
    "import requests as rq\n",
    "from IPython.display import clear_output\n",
    "import time\n",
    "import random\n",
    "print('All Packages Loaded')"
   ]
  },
  {
   "cell_type": "code",
   "execution_count": 4,
   "id": "b28a7d41-3456-4da1-a290-1a83a1983804",
   "metadata": {},
   "outputs": [],
   "source": [
    "lang_links = []\n",
    "# go through pages to extract language page urls and put into lang_links\n",
    "\n",
    "def scrape(num_of_pages):\n",
    "\n",
    "   \n",
    "#iterate through page range given and get lang_links\n",
    "    for i in range(0, num_of_pages + 1):\n",
    "        \n",
    "        clear_output(wait=True)\n",
    "        print(f'Scraping page {i}')\n",
    "\n",
    "        page_url = f'https://en.wal.unesco.org/discover/languages?text=&sort_by=title&page={i}'\n",
    "        page = rq.get(page_url)\n",
    "        \n",
    "        if page.status_code == 200:\n",
    "            page_soup = soup(page.text)\n",
    "            links = page_soup.find_all('a', href=True)\n",
    "             \n",
    "            for link in links:\n",
    "                href = link['href']\n",
    "                \n",
    "                if 'https://en.wal.unesco.org/languages/' in href:\n",
    "                    lang_links.append(href)"
   ]
  },
  {
   "cell_type": "code",
   "execution_count": 5,
   "id": "05d971ec-f6b9-4120-96b4-a0e47a6a3504",
   "metadata": {},
   "outputs": [
    {
     "name": "stdout",
     "output_type": "stream",
     "text": [
      "Scraping page 277\n"
     ]
    }
   ],
   "source": [
    "scrape(277)"
   ]
  },
  {
   "cell_type": "code",
   "execution_count": 12,
   "id": "fd6311e1-852d-455e-999a-bdab25ab4941",
   "metadata": {},
   "outputs": [
    {
     "ename": "TypeError",
     "evalue": "'list' object is not callable",
     "output_type": "error",
     "traceback": [
      "\u001b[1;31m---------------------------------------------------------------------------\u001b[0m",
      "\u001b[1;31mTypeError\u001b[0m                                 Traceback (most recent call last)",
      "Cell \u001b[1;32mIn[12], line 5\u001b[0m\n\u001b[0;32m      3\u001b[0m current_pos \u001b[38;5;241m=\u001b[39m \u001b[38;5;241m0\u001b[39m\n\u001b[0;32m      4\u001b[0m total \u001b[38;5;241m=\u001b[39m \u001b[38;5;28mlen\u001b[39m(lang_links)\n\u001b[1;32m----> 5\u001b[0m \u001b[38;5;28;01mfor\u001b[39;00m link \u001b[38;5;129;01min\u001b[39;00m \u001b[43mlang_links\u001b[49m\u001b[43m(\u001b[49m\u001b[38;5;241;43m0\u001b[39;49m\u001b[43m,\u001b[49m\u001b[38;5;241;43m1001\u001b[39;49m\u001b[43m)\u001b[49m:\n\u001b[0;32m      6\u001b[0m     current_pos \u001b[38;5;241m+\u001b[39m\u001b[38;5;241m=\u001b[39m \u001b[38;5;241m1\u001b[39m \n\u001b[0;32m      7\u001b[0m     clear_output()\n",
      "\u001b[1;31mTypeError\u001b[0m: 'list' object is not callable"
     ]
    }
   ],
   "source": [
    "#access language page and pull glottocode, language name, # speakers\n",
    "language_data = []\n",
    "current_pos = 0\n",
    "total = len(lang_links)\n",
    "for link in lang_links:\n",
    "    current_pos += 1 \n",
    "    clear_output()\n",
    "    print(f'Scraping Language URL #{current_pos} out of {total}')\n",
    "    lang = rq.get(link)\n",
    "    if lang.status_code == 200:\n",
    "        lang_soup = soup(lang.text)\n",
    "        lang_name = lang_soup.select('h2')[3].get_text()\n",
    "        lang_speakers = lang_soup.select('span')[6].get_text()\n",
    "        glotto_div = lang_soup.find('div', class_='field__label', text='Glottocode')\n",
    "        if glotto_div:\n",
    "            glotto_item = glotto_div.find_next_sibling('div', class_='field__item')\n",
    "            glottocode = glotto_item.get_text(strip=True)\n",
    "        else:\n",
    "            glottocode = 'none found'\n",
    "        language_data.append({'name': lang_name, 'speakers': lang_speakers, 'glottocode': glottocode})\n",
    "    else:\n",
    "        continue\n",
    "    time.sleep(0.5)\n",
    "print('Scraping Complete')\n",
    "df = pd.DataFrame.from_dict(language_data)\n",
    "df.to_csv('unesco_wal_1.csv')\n",
    "\n"
   ]
  },
  {
   "cell_type": "code",
   "execution_count": 11,
   "id": "2df7ffae-7059-4d80-8d22-36264169dfab",
   "metadata": {},
   "outputs": [
    {
     "data": {
      "text/plain": [
       "list"
      ]
     },
     "execution_count": 11,
     "metadata": {},
     "output_type": "execute_result"
    }
   ],
   "source": [
    "len(lang_links)\n",
    "type(lang_links)"
   ]
  },
  {
   "cell_type": "code",
   "execution_count": null,
   "id": "b790e5a3-83e3-4f66-84a9-62b78f9b36de",
   "metadata": {},
   "outputs": [],
   "source": []
  }
 ],
 "metadata": {
  "kernelspec": {
   "display_name": "Python 3 (ipykernel)",
   "language": "python",
   "name": "python3"
  },
  "language_info": {
   "codemirror_mode": {
    "name": "ipython",
    "version": 3
   },
   "file_extension": ".py",
   "mimetype": "text/x-python",
   "name": "python",
   "nbconvert_exporter": "python",
   "pygments_lexer": "ipython3",
   "version": "3.10.9"
  }
 },
 "nbformat": 4,
 "nbformat_minor": 5
}
