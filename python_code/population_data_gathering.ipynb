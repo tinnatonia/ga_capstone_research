{
 "cells": [
  {
   "cell_type": "code",
   "execution_count": 5,
   "id": "381fefe4-37a4-4b83-8520-e1a4c6e4c274",
   "metadata": {},
   "outputs": [],
   "source": [
    "import requests\n",
    "import pandas as pd\n"
   ]
  },
  {
   "cell_type": "code",
   "execution_count": null,
   "id": "1e743637-2382-4350-8b12-82b0e32f43bb",
   "metadata": {},
   "outputs": [],
   "source": [
    "glottolog_url = 'http://glottolog.org/resourcemap.json?rsc=language'\n",
    "response = requests.get(glottolog_url)\n",
    "glottolog_data = response.json()\n",
    "\n",
    "mapping_data = []\n",
    "for language_info in glottolog_data['resources']:\n",
    "    glottocode = language_info['id']\n",
    "    iso639_identifiers = [identifier['identifier'] for identifier in language_info['identifiers'] if identifier['type'] == 'iso639-3']\n",
    "    if iso639_identifiers:\n",
    "        isocode = iso639_identifiers[0]\n",
    "        mapping_data.append({'glottocode': glottocode, 'isocode': isocode})\n"
   ]
  },
  {
   "cell_type": "code",
   "execution_count": null,
   "id": "c0d540d9-65c9-4bb7-91ea-14d39c052e7c",
   "metadata": {},
   "outputs": [],
   "source": [
    "mapping = pd.DataFrame(mapping_data)\n",
    "mapping.to_csv('glottocode2iso.csv', index=False)"
   ]
  },
  {
   "cell_type": "code",
   "execution_count": null,
   "id": "8b3774d8-df95-43db-b57e-244f343304c2",
   "metadata": {},
   "outputs": [],
   "source": [
    "mapping_df = pd.read_csv('/Users/DAIR Julia/Desktop/linguistics_capstone/glottocode2iso.csv')\n",
    "pop_data = pd.read_excel('/Users/DAIR Julia/Desktop/linguistics_capstone/data/clld_mapping_population.xlsx', sheet_name='Supplementary data 1')\n",
    "mapping_dict = dict(zip(mapping_df[\"isocode\"], mapping_df[\"glottocode\"]))"
   ]
  },
  {
   "cell_type": "code",
   "execution_count": null,
   "id": "fcb413b5-468e-4ab6-9994-1c3c2af31fad",
   "metadata": {
    "scrolled": true
   },
   "outputs": [],
   "source": [
    "def isocode_to_glottocode(isocode):\n",
    "    glottocode = mapping_dict.get('glottocode', 'No Mapping Found')\n",
    "    return glottocode\n",
    "\n",
    "pop_data['GLTCODE'] = pop_data[\"ISO\"].apply(isocode_to_glottocode)\n",
    "\n",
    "pop_data.to_csv('/Users/DAIR Julia/Desktop/linguistics_capstone/output_with_glottocode.csv', index=False)\n"
   ]
  },
  {
   "cell_type": "code",
   "execution_count": null,
   "id": "cf4ac38e-62bc-441d-906d-3d9e69c8feac",
   "metadata": {},
   "outputs": [],
   "source": [
    "pop_data"
   ]
  },
  {
   "cell_type": "code",
   "execution_count": 26,
   "id": "4c634434-23db-45ef-9a2a-4f8b501cf848",
   "metadata": {},
   "outputs": [],
   "source": [
    "speaker_population = pd.read_csv('/Users/DAIR Julia/Desktop/linguistics_capstone/speaker_populations.csv')\n",
    "speaker_population.rename(columns={'ISO' : 'glottocode'}, inplace=True)\n",
    "speaker_population.drop(['bordering_language_richness',\n",
    "       'bordering_language_richness_perkm', 'bordering_language_evenness',\n",
    "       'language_richness', 'threatened_languages',\n",
    "       'threatened_prop_languages', 'language_evenness', 'official_status',\n",
    "       'language_of_education', 'minority_education', 'education_spending',\n",
    "       'years_of_schooling', 'GDPpc', 'life_expectancy_60', 'urban_change', 'island',\n",
    "       'roads', 'pop_density', 'human_footprint', 'cropland',\n",
    "       'pop_density_change', 'footprint_change', 'cropland_change', 'pasture',\n",
    "       'pasture_change', 'built', 'built_change', 'GINI', 'growing_season',\n",
    "       'temperature', 'temperature_seasonality', 'rainfall_seasonality',\n",
    "       'threatened_species', 'threatened_prop_species', 'waterways',\n",
    "       'roughness', 'altitude_range', 'world_language', 'Arabic', 'Malay',\n",
    "       'English', 'French', 'Hindustani', 'Mandarin', 'Portuguese', 'Russian',\n",
    "       'Spanish', 'Western_Africa', 'Oceania', 'Europe', 'Southern_Asia',\n",
    "       'South_America', 'Northern_America', 'Africa', 'South.Eastern_Asia',\n",
    "       'Arab', 'Asia', 'Central_America', 'Australia_and_New_Zealand', 'GLTCODE'], inplace=True, axis=1)\n",
    "speaker_population.to_csv('/Users/DAIR Julia/Desktop/linguistics_capstone/speaker_population.csv')"
   ]
  },
  {
   "cell_type": "code",
   "execution_count": 24,
   "id": "61b44a61-bdac-4605-ab8b-f2b841054258",
   "metadata": {},
   "outputs": [
    {
     "data": {
      "text/plain": [
       "Index(['ISO', 'name', 'region', 'AES', 'EGIDS', 'L1_pop', 'L1_pop_prop',\n",
       "       'documentation', 'area'],\n",
       "      dtype='object')"
      ]
     },
     "execution_count": 24,
     "metadata": {},
     "output_type": "execute_result"
    }
   ],
   "source": [
    "speaker_population.columns"
   ]
  },
  {
   "cell_type": "code",
   "execution_count": 20,
   "id": "74998eb4-0097-4e25-9779-f95926306deb",
   "metadata": {},
   "outputs": [
    {
     "data": {
      "text/html": [
       "<div>\n",
       "<style scoped>\n",
       "    .dataframe tbody tr th:only-of-type {\n",
       "        vertical-align: middle;\n",
       "    }\n",
       "\n",
       "    .dataframe tbody tr th {\n",
       "        vertical-align: top;\n",
       "    }\n",
       "\n",
       "    .dataframe thead th {\n",
       "        text-align: right;\n",
       "    }\n",
       "</style>\n",
       "<table border=\"1\" class=\"dataframe\">\n",
       "  <thead>\n",
       "    <tr style=\"text-align: right;\">\n",
       "      <th></th>\n",
       "      <th>ISO</th>\n",
       "      <th>name</th>\n",
       "      <th>region</th>\n",
       "      <th>AES</th>\n",
       "      <th>EGIDS</th>\n",
       "      <th>L1_pop</th>\n",
       "      <th>L1_pop_prop</th>\n",
       "      <th>documentation</th>\n",
       "      <th>area</th>\n",
       "    </tr>\n",
       "  </thead>\n",
       "  <tbody>\n",
       "    <tr>\n",
       "      <th>0</th>\n",
       "      <td>ghot1243</td>\n",
       "      <td>Ghotuo</td>\n",
       "      <td>Western Africa</td>\n",
       "      <td>not endangered</td>\n",
       "      <td>6a</td>\n",
       "      <td>9000</td>\n",
       "      <td>29.362127</td>\n",
       "      <td>basic</td>\n",
       "      <td>227.055529</td>\n",
       "    </tr>\n",
       "    <tr>\n",
       "      <th>1</th>\n",
       "      <td>alum1246</td>\n",
       "      <td>Alumu-Tesu</td>\n",
       "      <td>Western Africa</td>\n",
       "      <td>not endangered</td>\n",
       "      <td>6a</td>\n",
       "      <td>7000</td>\n",
       "      <td>40.009014</td>\n",
       "      <td>little or none</td>\n",
       "      <td>39.495978</td>\n",
       "    </tr>\n",
       "    <tr>\n",
       "      <th>2</th>\n",
       "      <td>arii1243</td>\n",
       "      <td>Ari</td>\n",
       "      <td>Oceania</td>\n",
       "      <td>moribund</td>\n",
       "      <td>6b</td>\n",
       "      <td>50</td>\n",
       "      <td>33.947535</td>\n",
       "      <td>little or none</td>\n",
       "      <td>1102.240604</td>\n",
       "    </tr>\n",
       "    <tr>\n",
       "      <th>3</th>\n",
       "      <td>amal1242</td>\n",
       "      <td>Amal</td>\n",
       "      <td>Oceania</td>\n",
       "      <td>shifting</td>\n",
       "      <td>6a</td>\n",
       "      <td>830</td>\n",
       "      <td>107.908953</td>\n",
       "      <td>little or none</td>\n",
       "      <td>63.460629</td>\n",
       "    </tr>\n",
       "    <tr>\n",
       "      <th>4</th>\n",
       "      <td>arbe1236</td>\n",
       "      <td>Arb√´resh√´ Albanian</td>\n",
       "      <td>Europe</td>\n",
       "      <td>threatened</td>\n",
       "      <td>6b</td>\n",
       "      <td>100000</td>\n",
       "      <td>1012.121847</td>\n",
       "      <td>detailed</td>\n",
       "      <td>591.828062</td>\n",
       "    </tr>\n",
       "  </tbody>\n",
       "</table>\n",
       "</div>"
      ],
      "text/plain": [
       "        ISO                  name          region             AES EGIDS  \\\n",
       "0  ghot1243                Ghotuo  Western Africa  not endangered    6a   \n",
       "1  alum1246            Alumu-Tesu  Western Africa  not endangered    6a   \n",
       "2  arii1243                   Ari         Oceania        moribund    6b   \n",
       "3  amal1242                  Amal         Oceania        shifting    6a   \n",
       "4  arbe1236  Arb√´resh√´ Albanian          Europe      threatened    6b   \n",
       "\n",
       "   L1_pop  L1_pop_prop   documentation         area  \n",
       "0    9000    29.362127           basic   227.055529  \n",
       "1    7000    40.009014  little or none    39.495978  \n",
       "2      50    33.947535  little or none  1102.240604  \n",
       "3     830   107.908953  little or none    63.460629  \n",
       "4  100000  1012.121847        detailed   591.828062  "
      ]
     },
     "execution_count": 20,
     "metadata": {},
     "output_type": "execute_result"
    }
   ],
   "source": [
    "speaker_population.head()"
   ]
  },
  {
   "cell_type": "code",
   "execution_count": null,
   "id": "9bcb40b0-3b08-4f85-9b1f-9312ed8fc306",
   "metadata": {},
   "outputs": [],
   "source": []
  }
 ],
 "metadata": {
  "kernelspec": {
   "display_name": "Python 3 (ipykernel)",
   "language": "python",
   "name": "python3"
  },
  "language_info": {
   "codemirror_mode": {
    "name": "ipython",
    "version": 3
   },
   "file_extension": ".py",
   "mimetype": "text/x-python",
   "name": "python",
   "nbconvert_exporter": "python",
   "pygments_lexer": "ipython3",
   "version": "3.10.9"
  }
 },
 "nbformat": 4,
 "nbformat_minor": 5
}
