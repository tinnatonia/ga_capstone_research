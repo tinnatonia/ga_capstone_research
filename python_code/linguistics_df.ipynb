{
 "cells": [
  {
   "cell_type": "markdown",
   "id": "5870ba36-f7b5-472b-a117-7358cb04b873",
   "metadata": {},
   "source": [
    "## Data Frame Creation\n",
    "###### Importing modules and initial read/mod of data files"
   ]
  },
  {
   "cell_type": "code",
   "execution_count": 23,
   "id": "1fc6e8ba-f9d7-4f0c-ba84-7fa37f2e0ce6",
   "metadata": {},
   "outputs": [],
   "source": [
    "import pandas as pd\n",
    "import matplotlib as plt\n",
    "import numpy as np\n",
    "from ydata_profiling import ProfileReport\n",
    "from bs4 import BeautifulSoup as soup\n",
    "import requests as rq\n",
    "\n",
    "gram=pd.read_csv(filepath_or_buffer='C:\\\\Users\\DAIR Julia\\Desktop\\linguistics_capstone\\data\\grambank\\cldf\\languages.csv')\n",
    "gram.drop(['ID', 'ISO639P3code', 'provenance', 'Language_level_ID'], inplace=True, axis=1)\n",
    "\n",
    "glotto=pd.read_csv(filepath_or_buffer='C:/Users/DAIR Julia/Desktop/linguistics_capstone/data/glottolog_cldf/cldf/languages.csv')\n",
    "glotto.drop(['ID','Closest_ISO369P3code', 'Language_ID', 'First_Year_Of_Documentation', 'Last_Year_Of_Documentation', \n",
    "             'ISO639P3code'], inplace=True, axis=1)\n",
    "\n",
    "values=pd.read_csv(filepath_or_buffer='C:/Users/DAIR Julia/Desktop/linguistics_capstone/data/glottolog_cldf/cldf/values.csv')\n",
    "values.drop(['ID', 'Code_ID', 'Comment', 'Source', 'codeReference'], axis=1, inplace=True)\n",
    "values=values[(values['Parameter_ID'] == 'aes') | (values['Parameter_ID'] == 'level') | (values['Parameter_ID'] == 'category')]\n",
    "\n",
    "codes=pd.read_csv(filepath_or_buffer='C:\\\\Users\\DAIR Julia\\Desktop\\linguistics_capstone\\data\\glottolog_cldf\\cldf\\codes.csv')"
   ]
  },
  {
   "cell_type": "markdown",
   "id": "f4b6b925-f230-4a54-9e33-b68226cedaee",
   "metadata": {},
   "source": [
    "### Values file manipulation:\n",
    "pulling out level, category and aes information to individual dataframes to merge back into one final doc for languages.csv"
   ]
  },
  {
   "cell_type": "code",
   "execution_count": 24,
   "id": "fa8897a3-680f-48d7-9d67-5a8450bae194",
   "metadata": {},
   "outputs": [],
   "source": [
    "level = values[values['Parameter_ID'] == 'level']\n",
    "category = values[values['Parameter_ID'] == 'category']\n",
    "aes = values[values['Parameter_ID'] == 'aes']\n",
    "\n",
    "\n",
    "new_df = pd.merge(left=glotto, right=gram, how='left', on='Glottocode').drop(['Name_y', 'Macroarea_y', 'Latitude_y', 'Longitude_y', 'Family_name', 'Family_level_ID', 'level'], axis=1)\n",
    "new_df = pd.merge(left=new_df, right=level, how='left', left_on='Glottocode', right_on='Language_ID')\n",
    "new_df = pd.merge(left=new_df, right=category, how='left', left_on='Glottocode', right_on='Language_ID')\n",
    "new_df = pd.merge(left=new_df, right=aes, how='left', left_on='Glottocode', right_on='Language_ID')\n",
    "new_df.drop(['Language_ID_x', 'Parameter_ID_x','Language_ID_y', 'Parameter_ID_y','Language_ID', 'Parameter_ID'], axis=1, inplace=True)\n",
    "new_df.rename(columns={'Name_x':'name','Macroarea_x':'macroarea', 'Latitude_x':'latitude', 'Longitude_x':'longitude', 'Glottocode':'glottocode', 'Countries':'countries', 'Family_ID':'family_id', 'Value_x':'level', 'Value_y':'category','Value':'aes'}, inplace=True)\n",
    "new_df.to_csv('languages.csv')"
   ]
  },
  {
   "cell_type": "code",
   "execution_count": null,
   "id": "72204578-3cb4-404f-ad00-df58f9aa7950",
   "metadata": {},
   "outputs": [],
   "source": []
  }
 ],
 "metadata": {
  "kernelspec": {
   "display_name": "Python 3 (ipykernel)",
   "language": "python",
   "name": "python3"
  },
  "language_info": {
   "codemirror_mode": {
    "name": "ipython",
    "version": 3
   },
   "file_extension": ".py",
   "mimetype": "text/x-python",
   "name": "python",
   "nbconvert_exporter": "python",
   "pygments_lexer": "ipython3",
   "version": "3.10.9"
  }
 },
 "nbformat": 4,
 "nbformat_minor": 5
}
