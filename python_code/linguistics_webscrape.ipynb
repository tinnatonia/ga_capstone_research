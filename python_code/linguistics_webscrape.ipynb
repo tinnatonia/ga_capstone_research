{
 "cells": [
  {
   "cell_type": "code",
   "execution_count": 4,
   "id": "b5dc953c-7aab-453e-b940-950fb2f39a06",
   "metadata": {},
   "outputs": [],
   "source": [
    "import pandas as pd\n",
    "from bs4 import BeautifulSoup as soup\n",
    "import requests as rq\n",
    "from IPython.display import clear_output\n",
    "import time"
   ]
  },
  {
   "cell_type": "code",
   "execution_count": 6,
   "id": "77fa9774-15a0-46e5-930c-98f5229e54b7",
   "metadata": {},
   "outputs": [
    {
     "name": "stdout",
     "output_type": "stream",
     "text": [
      "scraping Abai Sungai\n",
      "[<Response [404]>, <Response [404]>, <Response [404]>, <Response [404]>, <Response [404]>, <Response [404]>, <Response [404]>, <Response [404]>, <Response [404]>]\n"
     ]
    }
   ],
   "source": [
    "#https://en.wal.unesco.org/discover/languages?text=&sort_by=title&page=4\n",
    "\n",
    "#scrape to get # speakers, and endangered status\n",
    "languages = ('Albanian', 'Amharic', 'Arabic', 'Assamese', 'Bengali', 'Aari', 'Aasax', 'Abadi', 'Abai Sungai')\n",
    "page_url=f'https://en.wal.unesco.org/languages/{languages}'\n",
    "status_codes = []\n",
    "for language in languages:\n",
    "    clear_output(wait=True)\n",
    "    print(f'scraping {language}')\n",
    "    status_codes.append(rq.get(page_url))\n",
    "print(status_codes)\n",
    "\n",
    "#wal_soup = soup(rq.get(page_url).text)\n",
    "\n",
    "#<a href=\"https://en.wal.unesco.org/lcanguages/akpa\" hreflang=\"en\">Akpa</a>\n"
   ]
  },
  {
   "cell_type": "code",
   "execution_count": 92,
   "id": "f1709448-1f8e-4467-a4cc-62133e26b4a0",
   "metadata": {},
   "outputs": [],
   "source": [
    "def extract_language_info(lang_url):\n",
    "    lang = rq.get(lang_url)\n",
    "    if lang.status_code == 200:\n",
    "        lang_soup = soup(lang.text)\n",
    "        lang_name = lang_soup.select('h2')[3].get_text()\n",
    "        \n",
    "        lang_speakers=lang_soup.select('span')[6].get_text()\n",
    "\n",
    "\n",
    "        ########### YOU ARE HERE :::::::::::::::::VVVVVVVVVVVVV\n",
    "        \n",
    "        lang_code= lang_soup.find(\"div\", {\"class\":\"field__item\"})\n",
    "\n",
    "        return {'name': lang_name, 'speakers' : lang_speakers, 'glottocode' : lang_code}\n",
    "    \n",
    "    else:\n",
    "        print(f'Error at: {lang_url}')\n",
    "        return None\n",
    "\n",
    "def scrape(num_of_pages):\n",
    "    \n",
    "    lang_links = []\n",
    "    \n",
    "    for i in range(1,num_of_pages+1):\n",
    "        \n",
    "        clear_output(wait=True)\n",
    "        print(f'Scraping page {i}')\n",
    "        \n",
    "        page_url = f'https://en.wal.unesco.org/discover/languages?text=&sort_by=title&page={i}'\n",
    "        page_url = f'{page_url}{i}'\n",
    "        page = rq.get(page_url)\n",
    "        if page.status_code == 200:\n",
    "            page_soup=soup(page.text)\n",
    "            links=page_soup.find_all('a', href=True)\n",
    "            for link in links:\n",
    "                href = link['href']\n",
    "                if 'https://en.wal.unesco.org/languages/' in href:\n",
    "                    lang_links.append(href)           \n",
    "        time.sleep(.5)\n",
    "    language_data = []\n",
    "    for link in lang_links:\n",
    "        lang_info = extract_language_info(link)\n",
    "        language_data.append(lang_info)\n",
    "\n",
    "    return language_data\n",
    "        "
   ]
  },
  {
   "cell_type": "code",
   "execution_count": 93,
   "id": "cd3de5cf-d24e-4631-8eb2-2aa09f1b0b8b",
   "metadata": {},
   "outputs": [
    {
     "name": "stdout",
     "output_type": "stream",
     "text": [
      "Scraping page 1\n"
     ]
    },
    {
     "data": {
      "text/plain": [
       "[{'name': 'Apatani',\n",
       "  'speakers': '99,999',\n",
       "  'glottocode': '\\n\\n\\n\\nBuilding peace in the minds of men and women\\n\\n\\n\\n'},\n",
       " {'name': 'Apiaká',\n",
       "  'speakers': '',\n",
       "  'glottocode': '\\n\\n\\n\\nBuilding peace in the minds of men and women\\n\\n\\n\\n'},\n",
       " {'name': 'Apiaka-Tocantins',\n",
       "  'speakers': '',\n",
       "  'glottocode': '\\n\\n\\n\\nBuilding peace in the minds of men and women\\n\\n\\n\\n'},\n",
       " {'name': 'Apinayé',\n",
       "  'speakers': '9,999',\n",
       "  'glottocode': '\\n\\n\\n\\nBuilding peace in the minds of men and women\\n\\n\\n\\n'},\n",
       " {'name': 'Apma',\n",
       "  'speakers': '9,999',\n",
       "  'glottocode': '\\n\\n\\n\\nBuilding peace in the minds of men and women\\n\\n\\n\\n'},\n",
       " {'name': 'Apolista',\n",
       "  'speakers': '',\n",
       "  'glottocode': '\\n\\n\\n\\nBuilding peace in the minds of men and women\\n\\n\\n\\n'},\n",
       " {'name': 'Apoto',\n",
       "  'speakers': '',\n",
       "  'glottocode': '\\n\\n\\n\\nBuilding peace in the minds of men and women\\n\\n\\n\\n'},\n",
       " {'name': 'Aproumu Aizi',\n",
       "  'speakers': '9,999',\n",
       "  'glottocode': '\\n\\n\\n\\nBuilding peace in the minds of men and women\\n\\n\\n\\n'},\n",
       " {'name': 'Apucikwar',\n",
       "  'speakers': '',\n",
       "  'glottocode': '\\n\\n\\n\\nBuilding peace in the minds of men and women\\n\\n\\n\\n'},\n",
       " {'name': 'Apulia-Calabrian Greek',\n",
       "  'speakers': '99',\n",
       "  'glottocode': '\\n\\n\\n\\nBuilding peace in the minds of men and women\\n\\n\\n\\n'},\n",
       " {'name': 'Apurinã',\n",
       "  'speakers': '9,999',\n",
       "  'glottocode': '\\n\\n\\n\\nBuilding peace in the minds of men and women\\n\\n\\n\\n'},\n",
       " {'name': 'Aputai',\n",
       "  'speakers': '999',\n",
       "  'glottocode': '\\n\\n\\n\\nBuilding peace in the minds of men and women\\n\\n\\n\\n'},\n",
       " {'name': 'Arabana',\n",
       "  'speakers': '',\n",
       "  'glottocode': '\\n\\n\\n\\nBuilding peace in the minds of men and women\\n\\n\\n\\n'},\n",
       " {'name': 'Arabela',\n",
       "  'speakers': '99',\n",
       "  'glottocode': '\\n\\n\\n\\nBuilding peace in the minds of men and women\\n\\n\\n\\n'},\n",
       " {'name': 'Arabic',\n",
       "  'speakers': '999,999,999',\n",
       "  'glottocode': '\\n\\n\\n\\nBuilding peace in the minds of men and women\\n\\n\\n\\n'},\n",
       " {'name': 'Aracaju',\n",
       "  'speakers': '',\n",
       "  'glottocode': '\\n\\n\\n\\nBuilding peace in the minds of men and women\\n\\n\\n\\n'},\n",
       " {'name': 'Arafundi-Enga Pidgin',\n",
       "  'speakers': '',\n",
       "  'glottocode': '\\n\\n\\n\\nBuilding peace in the minds of men and women\\n\\n\\n\\n'},\n",
       " {'name': 'Aragonese',\n",
       "  'speakers': '99,999',\n",
       "  'glottocode': '\\n\\n\\n\\nBuilding peace in the minds of men and women\\n\\n\\n\\n'},\n",
       " {'name': 'Araicu',\n",
       "  'speakers': '',\n",
       "  'glottocode': '\\n\\n\\n\\nBuilding peace in the minds of men and women\\n\\n\\n\\n'},\n",
       " {'name': 'Araki',\n",
       "  'speakers': '9',\n",
       "  'glottocode': '\\n\\n\\n\\nBuilding peace in the minds of men and women\\n\\n\\n\\n'},\n",
       " {'name': 'Aralle-Tabulahan',\n",
       "  'speakers': '99,999',\n",
       "  'glottocode': '\\n\\n\\n\\nBuilding peace in the minds of men and women\\n\\n\\n\\n'},\n",
       " {'name': 'Arame-Gubaare',\n",
       "  'speakers': '',\n",
       "  'glottocode': '\\n\\n\\n\\nBuilding peace in the minds of men and women\\n\\n\\n\\n'},\n",
       " {'name': 'Arammba',\n",
       "  'speakers': '999',\n",
       "  'glottocode': '\\n\\n\\n\\nBuilding peace in the minds of men and women\\n\\n\\n\\n'},\n",
       " {'name': 'Aranadan',\n",
       "  'speakers': '999',\n",
       "  'glottocode': '\\n\\n\\n\\nBuilding peace in the minds of men and women\\n\\n\\n\\n'},\n",
       " {'name': 'Aranama',\n",
       "  'speakers': '',\n",
       "  'glottocode': '\\n\\n\\n\\nBuilding peace in the minds of men and women\\n\\n\\n\\n'},\n",
       " {'name': 'Aranese',\n",
       "  'speakers': '9,999',\n",
       "  'glottocode': '\\n\\n\\n\\nBuilding peace in the minds of men and women\\n\\n\\n\\n'},\n",
       " {'name': 'Araona',\n",
       "  'speakers': '99',\n",
       "  'glottocode': '\\n\\n\\n\\nBuilding peace in the minds of men and women\\n\\n\\n\\n'},\n",
       " {'name': 'Arapaho',\n",
       "  'speakers': '999',\n",
       "  'glottocode': '\\n\\n\\n\\nBuilding peace in the minds of men and women\\n\\n\\n\\n'},\n",
       " {'name': 'Arapaso',\n",
       "  'speakers': '',\n",
       "  'glottocode': '\\n\\n\\n\\nBuilding peace in the minds of men and women\\n\\n\\n\\n'},\n",
       " {'name': 'Araweté',\n",
       "  'speakers': '999',\n",
       "  'glottocode': '\\n\\n\\n\\nBuilding peace in the minds of men and women\\n\\n\\n\\n'}]"
      ]
     },
     "execution_count": 93,
     "metadata": {},
     "output_type": "execute_result"
    }
   ],
   "source": [
    "scrape(1)"
   ]
  },
  {
   "cell_type": "code",
   "execution_count": 166,
   "id": "59d2eebe-c149-4c52-bfc0-186b7cc014e7",
   "metadata": {
    "scrolled": true
   },
   "outputs": [
    {
     "data": {
      "text/plain": [
       "['https://en.wal.unesco.org/languages/aer',\n",
       " 'https://en.wal.unesco.org/languages/aewa',\n",
       " 'https://en.wal.unesco.org/languages/afade',\n",
       " 'https://en.wal.unesco.org/languages/afar',\n",
       " 'https://en.wal.unesco.org/languages/afghan-sign-language',\n",
       " 'https://en.wal.unesco.org/languages/afghanistan-gorbat',\n",
       " 'https://en.wal.unesco.org/languages/afitti',\n",
       " 'https://en.wal.unesco.org/languages/afrikaans',\n",
       " 'https://en.wal.unesco.org/languages/afro-seminole-creole',\n",
       " 'https://en.wal.unesco.org/languages/afudu',\n",
       " 'https://en.wal.unesco.org/languages/agarabi',\n",
       " 'https://en.wal.unesco.org/languages/agariya',\n",
       " 'https://en.wal.unesco.org/languages/agatu',\n",
       " 'https://en.wal.unesco.org/languages/agavotaguerra',\n",
       " 'https://en.wal.unesco.org/languages/aghem',\n",
       " 'https://en.wal.unesco.org/languages/aghu',\n",
       " 'https://en.wal.unesco.org/languages/aghu-tharnggalu',\n",
       " 'https://en.wal.unesco.org/languages/aghul',\n",
       " 'https://en.wal.unesco.org/languages/aghwan',\n",
       " 'https://en.wal.unesco.org/languages/agi',\n",
       " 'https://en.wal.unesco.org/languages/agob-ende-kawam',\n",
       " 'https://en.wal.unesco.org/languages/agoi',\n",
       " 'https://en.wal.unesco.org/languages/agta-pahanan',\n",
       " 'https://en.wal.unesco.org/languages/aguacateco',\n",
       " 'https://en.wal.unesco.org/languages/aguano',\n",
       " 'https://en.wal.unesco.org/languages/aguaruna',\n",
       " 'https://en.wal.unesco.org/languages/aguna',\n",
       " 'https://en.wal.unesco.org/languages/agusan-manobo',\n",
       " 'https://en.wal.unesco.org/languages/agutaynen',\n",
       " 'https://en.wal.unesco.org/languages/agwagwune']"
      ]
     },
     "execution_count": 166,
     "metadata": {},
     "output_type": "execute_result"
    }
   ],
   "source": [
    "scrape(1)"
   ]
  },
  {
   "cell_type": "raw",
   "id": "12d81e72-6603-4bb1-bf19-dac3031cddd0",
   "metadata": {},
   "source": [
    "for x in range(1,len(links)+1):\n",
    "            lang_urls = []\n",
    "            if links[x].str.contains('https://en.wal.unesco.org/languages/'):\n",
    "                lang_urls.append(links[x].get_text('href'))\n",
    "    return lang_urls"
   ]
  }
 ],
 "metadata": {
  "kernelspec": {
   "display_name": "Python 3 (ipykernel)",
   "language": "python",
   "name": "python3"
  },
  "language_info": {
   "codemirror_mode": {
    "name": "ipython",
    "version": 3
   },
   "file_extension": ".py",
   "mimetype": "text/x-python",
   "name": "python",
   "nbconvert_exporter": "python",
   "pygments_lexer": "ipython3",
   "version": "3.10.9"
  }
 },
 "nbformat": 4,
 "nbformat_minor": 5
}
